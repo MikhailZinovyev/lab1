{
  "cells": [
    {
      "cell_type": "markdown",
      "metadata": {
        "id": "vC84e9kzyxPy"
      },
      "source": [
        "<h1>Импорт библиотек"
      ]
    },
    {
      "cell_type": "code",
      "execution_count": 3,
      "metadata": {
        "id": "cgKeNegmQG5S"
      },
      "outputs": [],
      "source": [
        "import numpy as np\n",
        "import matplotlib.pyplot as plt"
      ]
    },
    {
      "cell_type": "markdown",
      "metadata": {
        "id": "qFM9uVU2x4Ls"
      },
      "source": [
        "<h1>Задача 1. Дан набор из $p$ матриц размерностью $(n, n)$ и $p$ векторов размерностью $(n, 1)$, найти сумму произведений матриц на векторы. Написать тесты для кода"
      ]
    },
    {
      "cell_type": "code",
      "execution_count": null,
      "metadata": {
        "id": "IAbUvEiYyWFF"
      },
      "outputs": [],
      "source": [
        "def sum_prod(X, V):\n",
        "    p = len(X)\n",
        "    n = X[0].shape[1]\n",
        "    sum_matrix = np.zeros((n, ), dtype=int)\n",
        "    for i in range(0, p):\n",
        "        sum_matrix += np.matmul(X[i], V[i])\n",
        "    return sum_matrix\n",
        "\n",
        "def test1(X, V, sum_matrix):\n",
        "    return np.array_equal(sum_prod(X, V), sum_matrix)\n",
        "\n",
        "def test_2():\n",
        "    X = [np.array([[1, 2], [3, 4]]), np.array([[5, 6], [7, 8]])]\n",
        "    V = [np.array([1, 2]), np.array([3, 4])]\n",
        "    sum_matrix = np.array([44, 64])\n",
        "    return test1(X, V, sum_matrix)\n",
        "\n",
        "def test_3():\n",
        "    X = [np.array([[1, 2, 3], [3, 4, 5], [5, 6, 7]]), np.array([[5, 6, 1], [7, 8, 2], [1, 4, 3]])]\n",
        "    V = [np.array([1, 2, 3]), np.array([3, 4, 6])]\n",
        "    sum_matrix = np.array([59, 91, 75])\n",
        "    return test1(X, V, sum_matrix)\n",
        "test_2()\n",
        "test_3()"
      ]
    },
    {
      "cell_type": "markdown",
      "metadata": {
        "id": "TKwPG4fIy2w4"
      },
      "source": [
        "<h1>Задача 2. Дана матрица M, напишите функцию, которая бинаризует матрицу по некоторому threshold (то есть, все значения большие threshold становятся равными 1, иначе 0). Напишите тесты для кода"
      ]
    },
    {
      "cell_type": "code",
      "execution_count": null,
      "metadata": {
        "id": "KQDNMgsjRNH7"
      },
      "outputs": [],
      "source": [
        "def binarize(M, threshold=0.5):\n",
        "    return [[1 if val > threshold else 0 for val in row] for row in M]\n",
        "\n",
        "def test_binarize():\n",
        "    matrix = [[0.1, 0.6, 0.3], [0.8, 0.2, 0.7], [0.4, 0.9, 0.5]]\n",
        "    assert binarize(matrix, 0.5) == [[0, 1, 0], [1, 0, 1], [0, 1, 0]]\n",
        "    \n",
        "    matrix2 = [[0.3, 0.7], [0.6, 0.4]]\n",
        "    assert binarize(matrix2, 0.4) == [[0, 1], [1, 0]]\n",
        "    \n",
        "    matrix3 = [[0.2, 0.8], [0.5, 0.3]]\n",
        "    assert binarize(matrix3, 0.6) == [[0, 1], [0, 0]]\n",
        "\n",
        "test_binarize()"
      ]
    },
    {
      "cell_type": "markdown",
      "metadata": {
        "id": "IY5L-h-7zWhN"
      },
      "source": [
        "<h1>Задача 3. Напишите функцию, которая возвращает уникальные элементы из каждой строки матрицы. Напишите такую же функцию, но для столбцов. Напишите тесты для кода"
      ]
    },
    {
      "cell_type": "code",
      "execution_count": null,
      "metadata": {
        "id": "-8dEZhR0SBC-"
      },
      "outputs": [],
      "source": [
        "def unique_rows(mat):\n",
        "    return [list(set(row)) for row in mat]\n",
        "\n",
        "def unique_columns(mat):\n",
        "    transposed_mat = list(zip(*mat))\n",
        "    return [list(set(col)) for col in transposed_mat]\n",
        "\n",
        "def test_unique_rows():\n",
        "    matrix = [[1, 2, 2], [3, 4, 4], [5, 6, 6]]\n",
        "    assert unique_rows(matrix) == [[1, 2], [3, 4], [5, 6]]\n",
        "    \n",
        "    matrix2 = [[1, 2, 3], [4, 5, 6], [7, 8, 9]]\n",
        "    assert unique_rows(matrix2) == [[1, 2, 3], [4, 5, 6], [7, 8, 9]]\n",
        "\n",
        "def test_unique_columns():\n",
        "    matrix = [[1, 2, 3], [1, 2, 3], [1, 2, 3]]\n",
        "    assert unique_columns(matrix) == [[1], [2], [3]]\n",
        "    \n",
        "    matrix2 = [[1, 1, 1], [2, 2, 2], [3, 3, 3]]\n",
        "    assert unique_columns(matrix2) == [[1], [2], [3]]\n",
        "\n",
        "test_unique_rows()\n",
        "test_unique_columns()"
      ]
    },
    {
      "cell_type": "markdown",
      "metadata": {
        "id": "roYAlo4Jz-lH"
      },
      "source": [
        "<h1>Задача 4. Напишите функцию, которая заполняет матрицу с размерами $(m, n)$ случайными числами, распределенными по нормальному закону. Затем считает мат. ожидание и дисперсию для каждого из столбцов и строк, а также строит для каждой строки и столбца гистограмму значений (использовать функцию hist из модуля matplotlib.plot)"
      ]
    },
    {
      "cell_type": "code",
      "execution_count": null,
      "metadata": {
        "id": "nZK_71hMSQzv"
      },
      "outputs": [],
      "source": [
        "def show_matrix_random(m, n):\n",
        "    random = np.random.default_rng()\n",
        "    matrix = random.normal(size=(m, n))\n",
        "    show_axis_info(m, matrix)\n",
        "    show_axis_info(n, matrix.T)\n",
        "\n",
        "def show_axis_info(axis_count, matrix):\n",
        "    for axis in range(axis_count):\n",
        "        mean = np.mean(matrix[axis])\n",
        "        std = np.std(matrix[axis])\n",
        "        plt.hist(matrix[axis])\n",
        "        plt.show()\n",
        "\n",
        "show_matrix_random(2, 4)"
      ]
    },
    {
      "cell_type": "markdown",
      "metadata": {
        "id": "BDyATNdM0dJ2"
      },
      "source": [
        "<h1>Задача 5. Напишите функцию, которая заполняет матрицу $(m, n)$ в шахматном порядке заданными числами $a$ и $b$. Напишите тесты для кода"
      ]
    },
    {
      "cell_type": "code",
      "execution_count": null,
      "metadata": {
        "id": "RWNJYWQGecS6"
      },
      "outputs": [],
      "source": [
        "def chess(m, n, a, b):\n",
        "    matrix = [[a if (i+j) % 2 == 0 else b for j in range(n)] for i in range(m)]\n",
        "    return matrix\n",
        "\n",
        "def test_chess():\n",
        "    assert chess(3, 3, 0, 1) == [[0, 1, 0], [1, 0, 1], [0, 1, 0]]\n",
        "    assert chess(2, 2, 7, 3) == [[7, 3], [3, 7]]\n",
        "    assert chess(4, 4, 2, 5) == [[2, 5, 2, 5], [5, 2, 5, 2], [2, 5, 2, 5], [5, 2, 5, 2]]\n",
        "\n",
        "test_chess()"
      ]
    },
    {
      "cell_type": "markdown",
      "metadata": {
        "id": "-ymXLtTN0vB6"
      },
      "source": [
        "<h1>Задача 6. Напишите функцию, которая отрисовывает прямоугольник с заданными размерами (a, b) на изображении размера (m, n), цвет фона задайте в схеме RGB, как и цвет прямоугольника. Цвета также должны быть параметрами функции. Напишите аналогичную функцию но для овала с полуосями a и b. Напишите тесты для кода.\n",
        "Примечание: уравнение эллипса (границы овала) можно записать как:\n",
        "<h1>$\\frac{(x-x_0)^2}{a^2}+\\frac{(y-y_0)^2}{b^2}=1$"
      ]
    },
    {
      "cell_type": "code",
      "execution_count": 1,
      "metadata": {
        "id": "sNfl1t_kfOF4"
      },
      "outputs": [],
      "source": [
        "from matplotlib.patches import Rectangle, Ellipse\n",
        "\n",
        "def draw_rectangle(a, b, m, n, rectangle_color, background_color):\n",
        "    ax = set_plot_area(m, n, background_color)\n",
        "    low_x = 1\n",
        "    low_y = 1\n",
        "    if (low_x + a > m or low_x < 0 or low_y + b > n or low_y < 0):\n",
        "        raise Exception(\"Out of image bounds!\")\n",
        "    ax.add_patch(Rectangle((1, 1), a, b, facecolor=rectangle_color, fill=True))\n",
        "\n",
        "def draw_ellipse(a, b, m, n, ellipse_color, background_color):\n",
        "    ax = set_plot_area(m, n, background_color)\n",
        "    center_x = 4\n",
        "    center_y = 3\n",
        "    if (center_x + a > m or center_x - a < 0 or center_y + b > n or center_y - b < 0):\n",
        "        raise Exception(\"Out of image bounds!\")\n",
        "    ax.add_patch(Ellipse((4, 3), 2*a, 2*b, facecolor=ellipse_color, fill=True))\n",
        "    \n",
        "def set_plot_area(m, n, background_color):\n",
        "    fig, ax = plt.subplots()\n",
        "    ax.set_xlim([0, m])\n",
        "    ax.set_ylim([0, n])\n",
        "\n",
        "    fig.set_figwidth(m)\n",
        "    fig.set_figheight(n)\n",
        "    \n",
        "    ax.set_facecolor(background_color)\n",
        "    return ax\n",
        "\n",
        "draw_rectangle(2, 4, 20, 10, '#000000', '#C0C0C0')\n",
        "draw_ellipse(6, 2, 20, 10, '#000000', '#C0C0C0')"
      ]
    },
    {
      "cell_type": "markdown",
      "metadata": {
        "id": "S82c38oz244H"
      },
      "source": [
        "<h1>Задача 7. Дан некий временной ряд. Для данного ряда нужно найти его: математическое ожидание, дисперсию, СКО, найти все локальные максимумы и минимумы (локальный максимум - это точка, которая больше своих соседних точек, а локальный минимум - это точка, которая меньше своих соседей), а также вычислить для данного ряда другой ряд, получаемый методом скользящего среднего с размером окна $p$.\n",
        "<h1>Примечание: метод скользящего среднего подразумевает нахождение среднего из подмножетсва ряда размером $p$"
      ]
    },
    {
      "cell_type": "code",
      "execution_count": null,
      "metadata": {
        "id": "Zb9mIVge5MMt"
      },
      "outputs": [],
      "source": [
        "import numpy as np\n",
        "\n",
        "time_series = np.array([1, 2, 3, 4, 5, 6, 7, 8, 9, 10])\n",
        "\n",
        "mean = np.mean(time_series)\n",
        "\n",
        "variance = np.var(time_series)\n",
        "\n",
        "std_dev = np.std(time_series)\n",
        "\n",
        "print(f\"Математическое ожидание: {mean}\")\n",
        "print(f\"Дисперсия: {variance}\")\n",
        "print(f\"СКО: {std_dev}\")\n",
        "\n",
        "def find_local_extrema(time_series):\n",
        "    maxima = []\n",
        "    minima = []\n",
        "    for i in range(1, len(time_series) - 1):\n",
        "        if time_series[i] > time_series[i-1] and time_series[i] > time_series[i+1]:\n",
        "            maxima.append(i)\n",
        "        elif time_series[i] < time_series[i-1] and time_series[i] < time_series[i+1]:\n",
        "            minima.append(i)\n",
        "    return maxima, minima\n",
        "\n",
        "maxima, minima = find_local_extrema(time_series)\n",
        "print(f\"Локальные максимумы: {maxima}\")\n",
        "print(f\"Локальные минимумы: {minima}\")\n",
        "\n",
        "def moving_average(time_series, window_size):\n",
        "    return np.convolve(time_series, np.ones(window_size), 'valid') / window_size\n",
        "\n",
        "window_size = 3\n",
        "\n",
        "moving_avg = moving_average(time_series, window_size)\n",
        "print(f\"Скользящее среднее: {moving_avg}\")"
      ]
    },
    {
      "cell_type": "markdown",
      "metadata": {
        "id": "jPkylmOX5O9n"
      },
      "source": [
        "<h1> Задача 8. Дан некоторый вектор с целочисленными метками классов, напишите функцию, которая выполняет one-hot-encoding для данного вектора\n",
        "<h1> One-hot-encoding - представление, в котором на месте метки некоторого класса стоит 1, в остальных позициях стоит 0. Например для вектора [0, 2, 3, 0] one-hot-encoding выглядит как: [[1, 0, 0, 0], [0, 0, 1, 0], [0, 0, 0, 1], [1, 0, 0, 0]]"
      ]
    },
    {
      "cell_type": "code",
      "execution_count": null,
      "metadata": {
        "id": "Y-jlnZvw56lD"
      },
      "outputs": [],
      "source": [
        "def one_hot_encoding(vector):\n",
        "    num_classes = max(vector) + 1\n",
        "    encoding = [[1 if i == val else 0 for i in range(num_classes)] for val in vector]\n",
        "    return encoding\n",
        "\n",
        "def test_one_hot_encoding():\n",
        "    assert one_hot_encoding([0, 2, 3, 0]) == [[1, 0, 0, 0], [0, 0, 1, 0], [0, 0, 0, 1], [1, 0, 0, 0]]\n",
        "    assert one_hot_encoding([1, 1, 2, 0, 2]) == [[0, 1, 0], [0, 1, 0], [0, 0, 1], [1, 0, 0], [0, 0, 1]]\n",
        "    assert one_hot_encoding([2, 2, 2, 1, 0]) == [[0, 0, 1], [0, 0, 1], [0, 0, 1], [0, 1, 0], [1, 0, 0]]\n",
        "\n",
        "test_one_hot_encoding()"
      ]
    }
  ],
  "metadata": {
    "colab": {
      "provenance": []
    },
    "kernelspec": {
      "display_name": "Python 3",
      "name": "python3"
    },
    "language_info": {
      "name": "python"
    }
  },
  "nbformat": 4,
  "nbformat_minor": 0
}
