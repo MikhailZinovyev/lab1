{
  "cells": [
    {
      "cell_type": "markdown",
      "metadata": {
        "id": "M-DGa20PaHnu"
      },
      "source": [
        "#Задача 1\n",
        "Написать функцию на вход которой подается строка, состоящая из латинских букв.\n",
        "Функция должна вернуть количество гласных букв (a, e, i, o, u) в этой строке. Написать тесты для кода"
      ]
    },
    {
      "cell_type": "code",
      "execution_count": null,
      "metadata": {
        "id": "XvX8X_JJ6PCb"
      },
      "outputs": [],
      "source": [
        "def count_vowels(input_string):\n",
        "    vowels = \"aeiouAEIOU\"\n",
        "    count = 0\n",
        "    for char in input_string:\n",
        "        if char in vowels:\n",
        "            count += 1\n",
        "    return count\n",
        "\n",
        "def test_count_vowels():\n",
        "    assert count_vowels(\"hello\") == 2\n",
        "    assert count_vowels(\"Urfu\") == 2\n",
        "    assert count_vowels(\"MlAgent\") == 2\n",
        "\n",
        "test_count_vowels()"
      ]
    },
    {
      "cell_type": "markdown",
      "metadata": {
        "id": "t2ClV_Y0bbr6"
      },
      "source": [
        "# Задача 2\n",
        "Написать функцию на вход, которой подается строка. Функция должна вернуть true, если\n",
        "каждый символ в строке встречается только 1 раз, иначе должна вернуть false. Написать тесты для кода"
      ]
    },
    {
      "cell_type": "code",
      "execution_count": null,
      "metadata": {
        "id": "FppbECao6VIz"
      },
      "outputs": [],
      "source": [
        "def are_characters_unique(string):\n",
        "    return len(string) == len(set(string))\n",
        "\n",
        "def test_are_characters_unique():\n",
        "    assert are_characters_unique(\"abcd\") == True\n",
        "    assert are_characters_unique(\"abcdabcd\") == False\n",
        "    assert are_characters_unique(\"\") == True\n",
        "    \n",
        "test_are_characters_unique()\n"
      ]
    },
    {
      "cell_type": "markdown",
      "metadata": {
        "id": "udRiIK1cdt6E"
      },
      "source": [
        "# Задача 3\n",
        "Написать функцию, которая принимает положительное число и возвращает количество\n",
        "бит равных 1 в этом числе. Написать тесты для кода"
      ]
    },
    {
      "cell_type": "code",
      "execution_count": null,
      "metadata": {
        "id": "6tkfDJRz6dp_"
      },
      "outputs": [],
      "source": [
        "def count_set_bits(num):\n",
        "    count = 0\n",
        "    while num:\n",
        "        count += num & 1\n",
        "        num >>= 1\n",
        "    return count\n",
        "\n",
        "def test_count_set_bits():\n",
        "    assert count_set_bits(7) == 3\n",
        "    assert count_set_bits(15) == 4\n",
        "    assert count_set_bits(0) == 0\n",
        "\n",
        "test_count_set_bits()"
      ]
    },
    {
      "cell_type": "markdown",
      "metadata": {
        "id": "26dDUz-Ae17N"
      },
      "source": [
        "# Задача 4\n",
        "Написать функцию, которая принимает положительное число. Функция должна вернуть то,\n",
        "сколько раз необходимо перемножать цифры числа или результат перемножения, чтобы\n",
        "получилось число состоящее из одной цифры.\n",
        "Например, для входного числа:\n",
        "· 39 функция должна вернуть 3, так как 3*9=27 => 2*7=14 => 1*4=4\n",
        "· 4 функция должна вернуть 0, так как число уже состоит из одной цифры\n",
        "· 999 функция должна вернуть 4, так как 9*9*9=729 => 7*2*9=126 => 1*2*6=12 =>\n",
        "1*2=2. Написать тесты для кода"
      ]
    },
    {
      "cell_type": "code",
      "execution_count": null,
      "metadata": {
        "id": "BH1A_Mgi6i4G"
      },
      "outputs": [],
      "source": [
        "def magic(n):\n",
        "    if n < 10:\n",
        "        return 0\n",
        "\n",
        "    def multiply(num):\n",
        "        result = 1\n",
        "        while num:\n",
        "            result *= num % 10\n",
        "            num //= 10\n",
        "        return result\n",
        "\n",
        "    count = 0\n",
        "    while n >= 10:\n",
        "        n = multiply(n)\n",
        "        count += 1\n",
        "    return count\n",
        "\n",
        "def test_magic():\n",
        "    assert magic(39) == 3\n",
        "    assert magic(4) == 0\n",
        "    assert magic(999) == 4\n",
        "    \n",
        "\n",
        "test_magic()"
      ]
    },
    {
      "cell_type": "markdown",
      "metadata": {
        "id": "0nS-kIa8g8vd"
      },
      "source": [
        "# Задача 5\n",
        "Написать функцию, которая принимает два целочисленных вектора одинаковой длины и\n",
        "возвращает среднеквадратическое отклонение двух векторов. Написать тесты для кода"
      ]
    },
    {
      "cell_type": "code",
      "execution_count": null,
      "metadata": {
        "id": "8iphx4LM6xbx"
      },
      "outputs": [],
      "source": [
        "def mse(pred, true):\n",
        "    if len(pred) != len(true):\n",
        "        raise ValueError(\"Векторы должны быть одинаковой длинны\")\n",
        "    squared_diffs = [(p - t) ** 2 for p, t in zip(pred, true)]\n",
        "    return sum(squared_diffs) / len(squared_diffs)\n",
        "\n",
        "def test_mse():\n",
        "    assert mse([1, 2, 3], [1, 2, 3]) == 0.0\n",
        "    assert mse([11,20,19,17,10], [12,18,19.5,18,9]) == 1.45\n",
        "\n",
        "test_mse()"
      ]
    },
    {
      "cell_type": "markdown",
      "metadata": {
        "id": "vpIPKL439zkw"
      },
      "source": [
        "# Задача 6\n",
        "Написать функцию, принимающая целое положительное число. Функция должна вернуть\n",
        "строку вида “(n1**p1)(n2**p2)…(nk**pk)” представляющая разложение числа на простые\n",
        "множители (если pi == 1, то выводить только ni).\n",
        "Например, для числа 86240 функция должна вернуть “(2**5)(5)(7**2)(11)”. Написать тесты для кода"
      ]
    },
    {
      "cell_type": "code",
      "execution_count": null,
      "metadata": {
        "id": "pFebmcZk94Jw"
      },
      "outputs": [],
      "source": [
        "def prime_factorization(n):\n",
        "    factors = {}\n",
        "    i = 2\n",
        "    while i * i <= n:\n",
        "        if n % i:\n",
        "            i += 1\n",
        "        else:\n",
        "            n //= i\n",
        "            if i in factors:\n",
        "                factors[i] += 1\n",
        "            else:\n",
        "                factors[i] = 1\n",
        "    if n > 1:\n",
        "        if n in factors:\n",
        "            factors[n] += 1\n",
        "        else:\n",
        "            factors[n] = 1\n",
        "    return ''.join(f'({i}^{factors[i]})' if factors[i] > 1 else f'({i})' for i in sorted(factors))\n",
        "def tests():\n",
        "    assert prime_factorization(86240) == \"(2**5)(5)(7**2)(11)\"\n",
        "    assert prime_factorization(11) == \"(11)\"\n",
        "    assert prime_factorization(172398392) == \"(2**3)(37)(582427)\"\n",
        "\n",
        "tests()"
      ]
    },
    {
      "cell_type": "markdown",
      "metadata": {
        "id": "ps2s0BudX7A2"
      },
      "source": [
        "# Задача 7\n",
        "Написать функцию, принимающая целое число n, задающее количество кубиков. Функция\n",
        "должна определить, можно ли из данного кол-ва кубиков построить пирамиду, то есть\n",
        "можно ли представить число n как 1^2+2^2+3^2+…+k^2. Если можно, то функция должна\n",
        "вернуть k, иначе строку “It is impossible”. Написать тесты для кода"
      ]
    },
    {
      "cell_type": "code",
      "execution_count": null,
      "metadata": {
        "id": "3YPjEXxhX_YT"
      },
      "outputs": [],
      "source": [
        "def pyramid(number):\n",
        "    total = 0\n",
        "    k = 1\n",
        "    while total < number:\n",
        "        total += k * k\n",
        "        if total == number:\n",
        "            return k\n",
        "        k += 1\n",
        "    return \"It is impossible\"\n",
        "\n",
        "def test_pyramid():\n",
        "    assert pyramid(1) == 1\n",
        "    assert pyramid(5) == \"It is impossible\"\n",
        "    assert pyramid(30) == \"It is impossible\"\n",
        "\n",
        "test_pyramid()"
      ]
    },
    {
      "cell_type": "markdown",
      "metadata": {
        "id": "KeKgmIdAQMEJ"
      },
      "source": [
        "# Задача 8\n",
        "Функция принимает на вход положительное число и определяет является ли оно сбалансированным, т.е. сумма цифр до средних равна сумме цифр после. Средними в случае нечетного числа цифр считать одну цифру, в случае четного - две средних. Написать тесты для кода"
      ]
    },
    {
      "cell_type": "code",
      "execution_count": null,
      "metadata": {
        "id": "gMAAqtqlQrZt"
      },
      "outputs": [],
      "source": [
        "def balanced_number(number):\n",
        "    num_str = str(number)\n",
        "    length = len(num_str)\n",
        "    if length % 2 == 0:\n",
        "        left_sum = sum(int(digit) for digit in num_str[:length // 2])\n",
        "        right_sum = sum(int(digit) for digit in num_str[length // 2:])\n",
        "    else:\n",
        "        left_sum = sum(int(digit) for digit in num_str[:length // 2])\n",
        "        right_sum = sum(int(digit) for digit in num_str[length // 2 + 1:])\n",
        "\n",
        "    return left_sum == right_sum\n",
        "\n",
        "def test_balanced_number():\n",
        "    assert balanced_number(12321) == True\n",
        "    assert balanced_number(12345) == False\n",
        "    assert balanced_number(1337) == False\n",
        "\n",
        "test_balanced_number()"
      ]
    }
  ],
  "metadata": {
    "colab": {
      "provenance": []
    },
    "kernelspec": {
      "display_name": "Python 3",
      "name": "python3"
    },
    "language_info": {
      "name": "python"
    }
  },
  "nbformat": 4,
  "nbformat_minor": 0
}
